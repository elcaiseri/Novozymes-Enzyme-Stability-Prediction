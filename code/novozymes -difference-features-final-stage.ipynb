{
 "cells": [
  {
   "cell_type": "markdown",
   "id": "bb40d36c",
   "metadata": {
    "papermill": {
     "duration": 0.006807,
     "end_time": "2022-12-12T15:37:56.828829",
     "exception": false,
     "start_time": "2022-12-12T15:37:56.822022",
     "status": "completed"
    },
    "tags": []
   },
   "source": [
    "# Difference Features - LB 0.600\n",
    "In this notebook we create difference features based on Kvigly's published PDBs [here][1]. For each test mutation we compute the difference between `pLDDT` mutation minus `pLDDT` wildtype. We notice that this submission is very diverse from the existing public notebooks (which mainly focus on wild type protein). Therefore when we ensemble this submission with the best public notebook we observe boost in CV LB!\n",
    "\n",
    "We can boost CV LB more by creating more difference features between wild type and mutation using PDB files. For example, another recent diverse high scoring notebook is greySnow's difference PDB feature bewtween energy scores [here][2]\n",
    "\n",
    "[1]: https://www.kaggle.com/competitions/novozymes-enzyme-stability-prediction/discussion/361816\n",
    "[2]: https://www.kaggle.com/code/shlomoron/nesp-relaxed-rosetta-scores"
   ]
  },
  {
   "cell_type": "markdown",
   "id": "ebebeac6",
   "metadata": {
    "papermill": {
     "duration": 0.005153,
     "end_time": "2022-12-12T15:37:56.839898",
     "exception": false,
     "start_time": "2022-12-12T15:37:56.834745",
     "status": "completed"
    },
    "tags": []
   },
   "source": [
    "# Load Test Data"
   ]
  },
  {
   "cell_type": "code",
   "execution_count": 1,
   "id": "efe0b551",
   "metadata": {
    "_cell_guid": "b1076dfc-b9ad-4769-8c92-a6c4dae69d19",
    "_uuid": "8f2839f25d086af736a60e9eeb907d3b93b6e0e5",
    "execution": {
     "iopub.execute_input": "2022-12-12T15:37:56.853462Z",
     "iopub.status.busy": "2022-12-12T15:37:56.852507Z",
     "iopub.status.idle": "2022-12-12T15:37:57.611171Z",
     "shell.execute_reply": "2022-12-12T15:37:57.609579Z"
    },
    "papermill": {
     "duration": 0.768693,
     "end_time": "2022-12-12T15:37:57.613977",
     "exception": false,
     "start_time": "2022-12-12T15:37:56.845284",
     "status": "completed"
    },
    "tags": []
   },
   "outputs": [],
   "source": [
    "import pandas as pd\n",
    "pd.set_option('display.max_columns', 500)\n",
    "import matplotlib.pyplot as plt\n",
    "from scipy.stats import rankdata"
   ]
  },
  {
   "cell_type": "code",
   "execution_count": 2,
   "id": "d48e43ff",
   "metadata": {
    "execution": {
     "iopub.execute_input": "2022-12-12T15:37:57.631387Z",
     "iopub.status.busy": "2022-12-12T15:37:57.630406Z",
     "iopub.status.idle": "2022-12-12T15:37:57.811833Z",
     "shell.execute_reply": "2022-12-12T15:37:57.810494Z"
    },
    "papermill": {
     "duration": 0.191616,
     "end_time": "2022-12-12T15:37:57.814384",
     "exception": false,
     "start_time": "2022-12-12T15:37:57.622768",
     "status": "completed"
    },
    "tags": []
   },
   "outputs": [
    {
     "data": {
      "text/html": [
       "<div>\n",
       "<style scoped>\n",
       "    .dataframe tbody tr th:only-of-type {\n",
       "        vertical-align: middle;\n",
       "    }\n",
       "\n",
       "    .dataframe tbody tr th {\n",
       "        vertical-align: top;\n",
       "    }\n",
       "\n",
       "    .dataframe thead th {\n",
       "        text-align: right;\n",
       "    }\n",
       "</style>\n",
       "<table border=\"1\" class=\"dataframe\">\n",
       "  <thead>\n",
       "    <tr style=\"text-align: right;\">\n",
       "      <th></th>\n",
       "      <th>seq_id</th>\n",
       "      <th>protein_sequence</th>\n",
       "      <th>pH</th>\n",
       "      <th>data_source</th>\n",
       "    </tr>\n",
       "  </thead>\n",
       "  <tbody>\n",
       "    <tr>\n",
       "      <th>0</th>\n",
       "      <td>31390</td>\n",
       "      <td>VPVNPEPDATSVENVAEKTGSGDSQSDPIKADLEVKGQSALPFDVD...</td>\n",
       "      <td>8</td>\n",
       "      <td>Novozymes</td>\n",
       "    </tr>\n",
       "    <tr>\n",
       "      <th>1</th>\n",
       "      <td>31391</td>\n",
       "      <td>VPVNPEPDATSVENVAKKTGSGDSQSDPIKADLEVKGQSALPFDVD...</td>\n",
       "      <td>8</td>\n",
       "      <td>Novozymes</td>\n",
       "    </tr>\n",
       "    <tr>\n",
       "      <th>2</th>\n",
       "      <td>31392</td>\n",
       "      <td>VPVNPEPDATSVENVAKTGSGDSQSDPIKADLEVKGQSALPFDVDC...</td>\n",
       "      <td>8</td>\n",
       "      <td>Novozymes</td>\n",
       "    </tr>\n",
       "    <tr>\n",
       "      <th>3</th>\n",
       "      <td>31393</td>\n",
       "      <td>VPVNPEPDATSVENVALCTGSGDSQSDPIKADLEVKGQSALPFDVD...</td>\n",
       "      <td>8</td>\n",
       "      <td>Novozymes</td>\n",
       "    </tr>\n",
       "    <tr>\n",
       "      <th>4</th>\n",
       "      <td>31394</td>\n",
       "      <td>VPVNPEPDATSVENVALFTGSGDSQSDPIKADLEVKGQSALPFDVD...</td>\n",
       "      <td>8</td>\n",
       "      <td>Novozymes</td>\n",
       "    </tr>\n",
       "  </tbody>\n",
       "</table>\n",
       "</div>"
      ],
      "text/plain": [
       "   seq_id                                   protein_sequence  pH data_source\n",
       "0   31390  VPVNPEPDATSVENVAEKTGSGDSQSDPIKADLEVKGQSALPFDVD...   8   Novozymes\n",
       "1   31391  VPVNPEPDATSVENVAKKTGSGDSQSDPIKADLEVKGQSALPFDVD...   8   Novozymes\n",
       "2   31392  VPVNPEPDATSVENVAKTGSGDSQSDPIKADLEVKGQSALPFDVDC...   8   Novozymes\n",
       "3   31393  VPVNPEPDATSVENVALCTGSGDSQSDPIKADLEVKGQSALPFDVD...   8   Novozymes\n",
       "4   31394  VPVNPEPDATSVENVALFTGSGDSQSDPIKADLEVKGQSALPFDVD...   8   Novozymes"
      ]
     },
     "execution_count": 2,
     "metadata": {},
     "output_type": "execute_result"
    }
   ],
   "source": [
    "test = pd.read_csv('../input/novozymes-enzyme-stability-prediction/test.csv')\n",
    "deletions = test.loc[test.protein_sequence.str.len()==220,'seq_id'].values\n",
    "test.head()"
   ]
  },
  {
   "cell_type": "code",
   "execution_count": 3,
   "id": "8072b052",
   "metadata": {
    "execution": {
     "iopub.execute_input": "2022-12-12T15:37:57.827723Z",
     "iopub.status.busy": "2022-12-12T15:37:57.826717Z",
     "iopub.status.idle": "2022-12-12T15:37:57.833899Z",
     "shell.execute_reply": "2022-12-12T15:37:57.832669Z"
    },
    "papermill": {
     "duration": 0.016193,
     "end_time": "2022-12-12T15:37:57.836264",
     "exception": false,
     "start_time": "2022-12-12T15:37:57.820071",
     "status": "completed"
    },
    "tags": []
   },
   "outputs": [
    {
     "data": {
      "text/plain": [
       "(77,)"
      ]
     },
     "execution_count": 3,
     "metadata": {},
     "output_type": "execute_result"
    }
   ],
   "source": [
    "deletions.shape"
   ]
  },
  {
   "cell_type": "code",
   "execution_count": 4,
   "id": "8e8156b6",
   "metadata": {
    "execution": {
     "iopub.execute_input": "2022-12-12T15:37:57.848903Z",
     "iopub.status.busy": "2022-12-12T15:37:57.848553Z",
     "iopub.status.idle": "2022-12-12T15:37:57.855098Z",
     "shell.execute_reply": "2022-12-12T15:37:57.853917Z"
    },
    "papermill": {
     "duration": 0.015484,
     "end_time": "2022-12-12T15:37:57.857281",
     "exception": false,
     "start_time": "2022-12-12T15:37:57.841797",
     "status": "completed"
    },
    "tags": []
   },
   "outputs": [
    {
     "data": {
      "text/plain": [
       "221"
      ]
     },
     "execution_count": 4,
     "metadata": {},
     "output_type": "execute_result"
    }
   ],
   "source": [
    "# LOAD TEST WILDTYPE\n",
    "base = 'VPVNPEPDATSVENVALKTGSGDSQSDPIKADLEVKGQSALPFDVDCWAILCKGAPNVLQRVNEKTKNSNRDRSGANKGPFKDPQKWGIKALPPKNPSWSAQDFKSPEEYAFASSLQGGTNAILAPVNLASQNSQGGVLNGFYSANKVAQFDPSKPQQTKGTWFQITKFTGAAGPYCKALGSNDKSVCDKNKNIAGDWGFDPAKWAYQYDEKNNKFNYVGK'\n",
    "len(base)"
   ]
  },
  {
   "cell_type": "code",
   "execution_count": 5,
   "id": "5cb26173",
   "metadata": {
    "execution": {
     "iopub.execute_input": "2022-12-12T15:37:57.870928Z",
     "iopub.status.busy": "2022-12-12T15:37:57.869751Z",
     "iopub.status.idle": "2022-12-12T15:38:02.087712Z",
     "shell.execute_reply": "2022-12-12T15:38:02.086538Z"
    },
    "papermill": {
     "duration": 4.227316,
     "end_time": "2022-12-12T15:38:02.090209",
     "exception": false,
     "start_time": "2022-12-12T15:37:57.862893",
     "status": "completed"
    },
    "tags": []
   },
   "outputs": [
    {
     "data": {
      "text/html": [
       "<div>\n",
       "<style scoped>\n",
       "    .dataframe tbody tr th:only-of-type {\n",
       "        vertical-align: middle;\n",
       "    }\n",
       "\n",
       "    .dataframe tbody tr th {\n",
       "        vertical-align: top;\n",
       "    }\n",
       "\n",
       "    .dataframe thead th {\n",
       "        text-align: right;\n",
       "    }\n",
       "</style>\n",
       "<table border=\"1\" class=\"dataframe\">\n",
       "  <thead>\n",
       "    <tr style=\"text-align: right;\">\n",
       "      <th></th>\n",
       "      <th>seq_id</th>\n",
       "      <th>protein_sequence</th>\n",
       "      <th>pH</th>\n",
       "      <th>data_source</th>\n",
       "      <th>wildtype</th>\n",
       "      <th>mutation</th>\n",
       "      <th>position</th>\n",
       "    </tr>\n",
       "  </thead>\n",
       "  <tbody>\n",
       "    <tr>\n",
       "      <th>0</th>\n",
       "      <td>31390</td>\n",
       "      <td>VPVNPEPDATSVENVAEKTGSGDSQSDPIKADLEVKGQSALPFDVD...</td>\n",
       "      <td>8</td>\n",
       "      <td>Novozymes</td>\n",
       "      <td>L</td>\n",
       "      <td>E</td>\n",
       "      <td>17</td>\n",
       "    </tr>\n",
       "    <tr>\n",
       "      <th>1</th>\n",
       "      <td>31391</td>\n",
       "      <td>VPVNPEPDATSVENVAKKTGSGDSQSDPIKADLEVKGQSALPFDVD...</td>\n",
       "      <td>8</td>\n",
       "      <td>Novozymes</td>\n",
       "      <td>L</td>\n",
       "      <td>K</td>\n",
       "      <td>17</td>\n",
       "    </tr>\n",
       "    <tr>\n",
       "      <th>2</th>\n",
       "      <td>31392</td>\n",
       "      <td>VPVNPEPDATSVENVAKTGSGDSQSDPIKADLEVKGQSALPFDVDC...</td>\n",
       "      <td>8</td>\n",
       "      <td>Novozymes</td>\n",
       "      <td>L</td>\n",
       "      <td>_</td>\n",
       "      <td>17</td>\n",
       "    </tr>\n",
       "    <tr>\n",
       "      <th>3</th>\n",
       "      <td>31393</td>\n",
       "      <td>VPVNPEPDATSVENVALCTGSGDSQSDPIKADLEVKGQSALPFDVD...</td>\n",
       "      <td>8</td>\n",
       "      <td>Novozymes</td>\n",
       "      <td>K</td>\n",
       "      <td>C</td>\n",
       "      <td>18</td>\n",
       "    </tr>\n",
       "    <tr>\n",
       "      <th>4</th>\n",
       "      <td>31394</td>\n",
       "      <td>VPVNPEPDATSVENVALFTGSGDSQSDPIKADLEVKGQSALPFDVD...</td>\n",
       "      <td>8</td>\n",
       "      <td>Novozymes</td>\n",
       "      <td>K</td>\n",
       "      <td>F</td>\n",
       "      <td>18</td>\n",
       "    </tr>\n",
       "  </tbody>\n",
       "</table>\n",
       "</div>"
      ],
      "text/plain": [
       "   seq_id                                   protein_sequence  pH data_source  \\\n",
       "0   31390  VPVNPEPDATSVENVAEKTGSGDSQSDPIKADLEVKGQSALPFDVD...   8   Novozymes   \n",
       "1   31391  VPVNPEPDATSVENVAKKTGSGDSQSDPIKADLEVKGQSALPFDVD...   8   Novozymes   \n",
       "2   31392  VPVNPEPDATSVENVAKTGSGDSQSDPIKADLEVKGQSALPFDVDC...   8   Novozymes   \n",
       "3   31393  VPVNPEPDATSVENVALCTGSGDSQSDPIKADLEVKGQSALPFDVD...   8   Novozymes   \n",
       "4   31394  VPVNPEPDATSVENVALFTGSGDSQSDPIKADLEVKGQSALPFDVD...   8   Novozymes   \n",
       "\n",
       "  wildtype mutation  position  \n",
       "0        L        E        17  \n",
       "1        L        K        17  \n",
       "2        L        _        17  \n",
       "3        K        C        18  \n",
       "4        K        F        18  "
      ]
     },
     "execution_count": 5,
     "metadata": {},
     "output_type": "execute_result"
    }
   ],
   "source": [
    "def get_test_mutation(row):\n",
    "    for i,(a,b) in enumerate(zip(row.protein_sequence,base)):\n",
    "        if a!=b: break\n",
    "    row['wildtype'] = base[i]\n",
    "    row['mutation'] = row.protein_sequence[i]\n",
    "    row['position'] = i+1\n",
    "    return row\n",
    "\n",
    "test = test.apply(get_test_mutation, axis=1)\n",
    "test.loc[test.seq_id.isin(deletions),'mutation'] = '_'\n",
    "test.head()"
   ]
  },
  {
   "cell_type": "markdown",
   "id": "f42f0b4b",
   "metadata": {
    "papermill": {
     "duration": 0.00621,
     "end_time": "2022-12-12T15:38:02.102504",
     "exception": false,
     "start_time": "2022-12-12T15:38:02.096294",
     "status": "completed"
    },
    "tags": []
   },
   "source": [
    "# Load PDBs Provided by Kvigly\n",
    "We load the PDBs provided by Kvigly (discussion [here][1]) and extract the `pLDDT` from wild type and mutation. Then we compute the difference.\n",
    "\n",
    "[1]: https://www.kaggle.com/competitions/novozymes-enzyme-stability-prediction/discussion/361816"
   ]
  },
  {
   "cell_type": "code",
   "execution_count": 6,
   "id": "b6045253",
   "metadata": {
    "_kg_hide-output": true,
    "execution": {
     "iopub.execute_input": "2022-12-12T15:38:02.118415Z",
     "iopub.status.busy": "2022-12-12T15:38:02.117242Z",
     "iopub.status.idle": "2022-12-12T15:38:15.660433Z",
     "shell.execute_reply": "2022-12-12T15:38:15.658750Z"
    },
    "papermill": {
     "duration": 13.553202,
     "end_time": "2022-12-12T15:38:15.663253",
     "exception": false,
     "start_time": "2022-12-12T15:38:02.110051",
     "status": "completed"
    },
    "tags": []
   },
   "outputs": [
    {
     "name": "stdout",
     "output_type": "stream",
     "text": [
      "Collecting biopandas\r\n",
      "  Downloading biopandas-0.4.1-py2.py3-none-any.whl (878 kB)\r\n",
      "\u001b[2K     \u001b[90m━━━━━━━━━━━━━━━━━━━━━━━━━━━━━━━━━━━━━━━\u001b[0m \u001b[32m879.0/879.0 kB\u001b[0m \u001b[31m3.2 MB/s\u001b[0m eta \u001b[36m0:00:00\u001b[0m\r\n",
      "\u001b[?25hRequirement already satisfied: numpy>=1.16.2 in /opt/conda/lib/python3.7/site-packages (from biopandas) (1.21.6)\r\n",
      "Requirement already satisfied: pandas>=0.24.2 in /opt/conda/lib/python3.7/site-packages (from biopandas) (1.3.5)\r\n",
      "Requirement already satisfied: setuptools in /opt/conda/lib/python3.7/site-packages (from biopandas) (59.8.0)\r\n",
      "Requirement already satisfied: python-dateutil>=2.7.3 in /opt/conda/lib/python3.7/site-packages (from pandas>=0.24.2->biopandas) (2.8.2)\r\n",
      "Requirement already satisfied: pytz>=2017.3 in /opt/conda/lib/python3.7/site-packages (from pandas>=0.24.2->biopandas) (2022.1)\r\n",
      "Requirement already satisfied: six>=1.5 in /opt/conda/lib/python3.7/site-packages (from python-dateutil>=2.7.3->pandas>=0.24.2->biopandas) (1.15.0)\r\n",
      "Installing collected packages: biopandas\r\n",
      "Successfully installed biopandas-0.4.1\r\n",
      "\u001b[33mWARNING: Running pip as the 'root' user can result in broken permissions and conflicting behaviour with the system package manager. It is recommended to use a virtual environment instead: https://pip.pypa.io/warnings/venv\u001b[0m\u001b[33m\r\n",
      "\u001b[0m"
     ]
    }
   ],
   "source": [
    "!pip install biopandas\n",
    "from biopandas.pdb import PandasPdb\n",
    "\n",
    "# TEST WILD TYPE\n",
    "atom_df0 = PandasPdb().read_pdb(f'../input/nesp-kvigly-test-mutation-pdbs/WT_unrelaxed_rank_1_model_3.pdb')\n",
    "atom_df0 = atom_df0.df['ATOM']\n",
    "wt = atom_df0.groupby('residue_number').b_factor.agg('first').values"
   ]
  },
  {
   "cell_type": "code",
   "execution_count": 7,
   "id": "7480a77c",
   "metadata": {
    "execution": {
     "iopub.execute_input": "2022-12-12T15:38:15.678821Z",
     "iopub.status.busy": "2022-12-12T15:38:15.678385Z",
     "iopub.status.idle": "2022-12-12T15:38:15.704832Z",
     "shell.execute_reply": "2022-12-12T15:38:15.703674Z"
    },
    "papermill": {
     "duration": 0.037113,
     "end_time": "2022-12-12T15:38:15.707345",
     "exception": false,
     "start_time": "2022-12-12T15:38:15.670232",
     "status": "completed"
    },
    "tags": []
   },
   "outputs": [
    {
     "data": {
      "text/html": [
       "<div>\n",
       "<style scoped>\n",
       "    .dataframe tbody tr th:only-of-type {\n",
       "        vertical-align: middle;\n",
       "    }\n",
       "\n",
       "    .dataframe tbody tr th {\n",
       "        vertical-align: top;\n",
       "    }\n",
       "\n",
       "    .dataframe thead th {\n",
       "        text-align: right;\n",
       "    }\n",
       "</style>\n",
       "<table border=\"1\" class=\"dataframe\">\n",
       "  <thead>\n",
       "    <tr style=\"text-align: right;\">\n",
       "      <th></th>\n",
       "      <th>record_name</th>\n",
       "      <th>atom_number</th>\n",
       "      <th>blank_1</th>\n",
       "      <th>atom_name</th>\n",
       "      <th>alt_loc</th>\n",
       "      <th>residue_name</th>\n",
       "      <th>blank_2</th>\n",
       "      <th>chain_id</th>\n",
       "      <th>residue_number</th>\n",
       "      <th>insertion</th>\n",
       "      <th>blank_3</th>\n",
       "      <th>x_coord</th>\n",
       "      <th>y_coord</th>\n",
       "      <th>z_coord</th>\n",
       "      <th>occupancy</th>\n",
       "      <th>b_factor</th>\n",
       "      <th>blank_4</th>\n",
       "      <th>segment_id</th>\n",
       "      <th>element_symbol</th>\n",
       "      <th>charge</th>\n",
       "      <th>line_idx</th>\n",
       "    </tr>\n",
       "  </thead>\n",
       "  <tbody>\n",
       "    <tr>\n",
       "      <th>0</th>\n",
       "      <td>ATOM</td>\n",
       "      <td>1</td>\n",
       "      <td></td>\n",
       "      <td>N</td>\n",
       "      <td></td>\n",
       "      <td>VAL</td>\n",
       "      <td></td>\n",
       "      <td>A</td>\n",
       "      <td>1</td>\n",
       "      <td></td>\n",
       "      <td></td>\n",
       "      <td>-31.237</td>\n",
       "      <td>-16.626</td>\n",
       "      <td>-18.254</td>\n",
       "      <td>1.0</td>\n",
       "      <td>44.22</td>\n",
       "      <td></td>\n",
       "      <td></td>\n",
       "      <td>N</td>\n",
       "      <td>NaN</td>\n",
       "      <td>1</td>\n",
       "    </tr>\n",
       "    <tr>\n",
       "      <th>1</th>\n",
       "      <td>ATOM</td>\n",
       "      <td>2</td>\n",
       "      <td></td>\n",
       "      <td>CA</td>\n",
       "      <td></td>\n",
       "      <td>VAL</td>\n",
       "      <td></td>\n",
       "      <td>A</td>\n",
       "      <td>1</td>\n",
       "      <td></td>\n",
       "      <td></td>\n",
       "      <td>-31.686</td>\n",
       "      <td>-15.238</td>\n",
       "      <td>-18.262</td>\n",
       "      <td>1.0</td>\n",
       "      <td>44.22</td>\n",
       "      <td></td>\n",
       "      <td></td>\n",
       "      <td>C</td>\n",
       "      <td>NaN</td>\n",
       "      <td>2</td>\n",
       "    </tr>\n",
       "    <tr>\n",
       "      <th>2</th>\n",
       "      <td>ATOM</td>\n",
       "      <td>3</td>\n",
       "      <td></td>\n",
       "      <td>C</td>\n",
       "      <td></td>\n",
       "      <td>VAL</td>\n",
       "      <td></td>\n",
       "      <td>A</td>\n",
       "      <td>1</td>\n",
       "      <td></td>\n",
       "      <td></td>\n",
       "      <td>-32.540</td>\n",
       "      <td>-14.964</td>\n",
       "      <td>-17.025</td>\n",
       "      <td>1.0</td>\n",
       "      <td>44.22</td>\n",
       "      <td></td>\n",
       "      <td></td>\n",
       "      <td>C</td>\n",
       "      <td>NaN</td>\n",
       "      <td>3</td>\n",
       "    </tr>\n",
       "    <tr>\n",
       "      <th>3</th>\n",
       "      <td>ATOM</td>\n",
       "      <td>4</td>\n",
       "      <td></td>\n",
       "      <td>CB</td>\n",
       "      <td></td>\n",
       "      <td>VAL</td>\n",
       "      <td></td>\n",
       "      <td>A</td>\n",
       "      <td>1</td>\n",
       "      <td></td>\n",
       "      <td></td>\n",
       "      <td>-32.482</td>\n",
       "      <td>-14.905</td>\n",
       "      <td>-19.543</td>\n",
       "      <td>1.0</td>\n",
       "      <td>44.22</td>\n",
       "      <td></td>\n",
       "      <td></td>\n",
       "      <td>C</td>\n",
       "      <td>NaN</td>\n",
       "      <td>4</td>\n",
       "    </tr>\n",
       "    <tr>\n",
       "      <th>4</th>\n",
       "      <td>ATOM</td>\n",
       "      <td>5</td>\n",
       "      <td></td>\n",
       "      <td>O</td>\n",
       "      <td></td>\n",
       "      <td>VAL</td>\n",
       "      <td></td>\n",
       "      <td>A</td>\n",
       "      <td>1</td>\n",
       "      <td></td>\n",
       "      <td></td>\n",
       "      <td>-33.472</td>\n",
       "      <td>-15.714</td>\n",
       "      <td>-16.728</td>\n",
       "      <td>1.0</td>\n",
       "      <td>44.22</td>\n",
       "      <td></td>\n",
       "      <td></td>\n",
       "      <td>O</td>\n",
       "      <td>NaN</td>\n",
       "      <td>5</td>\n",
       "    </tr>\n",
       "  </tbody>\n",
       "</table>\n",
       "</div>"
      ],
      "text/plain": [
       "  record_name  atom_number blank_1 atom_name alt_loc residue_name blank_2  \\\n",
       "0        ATOM            1                 N                  VAL           \n",
       "1        ATOM            2                CA                  VAL           \n",
       "2        ATOM            3                 C                  VAL           \n",
       "3        ATOM            4                CB                  VAL           \n",
       "4        ATOM            5                 O                  VAL           \n",
       "\n",
       "  chain_id  residue_number insertion blank_3  x_coord  y_coord  z_coord  \\\n",
       "0        A               1                    -31.237  -16.626  -18.254   \n",
       "1        A               1                    -31.686  -15.238  -18.262   \n",
       "2        A               1                    -32.540  -14.964  -17.025   \n",
       "3        A               1                    -32.482  -14.905  -19.543   \n",
       "4        A               1                    -33.472  -15.714  -16.728   \n",
       "\n",
       "   occupancy  b_factor blank_4 segment_id element_symbol  charge  line_idx  \n",
       "0        1.0     44.22                                 N     NaN         1  \n",
       "1        1.0     44.22                                 C     NaN         2  \n",
       "2        1.0     44.22                                 C     NaN         3  \n",
       "3        1.0     44.22                                 C     NaN         4  \n",
       "4        1.0     44.22                                 O     NaN         5  "
      ]
     },
     "execution_count": 7,
     "metadata": {},
     "output_type": "execute_result"
    }
   ],
   "source": [
    "atom_df0.head()"
   ]
  },
  {
   "cell_type": "markdown",
   "id": "c2ebf305",
   "metadata": {
    "papermill": {
     "duration": 0.006709,
     "end_time": "2022-12-12T15:38:15.809402",
     "exception": false,
     "start_time": "2022-12-12T15:38:15.802693",
     "status": "completed"
    },
    "tags": []
   },
   "source": [
    "# EDA pLDDT Difference\n",
    "Below we display the difference of pLDDT of test wild type vs. test row 1 mutation as predicted by Alpha Fold."
   ]
  },
  {
   "cell_type": "code",
   "execution_count": 10,
   "id": "9d51ce75",
   "metadata": {
    "execution": {
     "iopub.execute_input": "2022-12-12T15:38:15.824555Z",
     "iopub.status.busy": "2022-12-12T15:38:15.824128Z",
     "iopub.status.idle": "2022-12-12T15:38:15.885350Z",
     "shell.execute_reply": "2022-12-12T15:38:15.884467Z"
    },
    "papermill": {
     "duration": 0.071671,
     "end_time": "2022-12-12T15:38:15.887803",
     "exception": false,
     "start_time": "2022-12-12T15:38:15.816132",
     "status": "completed"
    },
    "tags": []
   },
   "outputs": [],
   "source": [
    "for index,row in test.iterrows():\n",
    "    aa1 = row.wildtype; aa2 = row.mutation; pos = row.position\n",
    "    atom_df = PandasPdb().read_pdb(f'../input/nesp-kvigly-test-mutation-pdbs/{aa1}{pos}{aa2}_unrelaxed_rank_1_model_3.pdb')\n",
    "    atom_df = atom_df.df['ATOM']\n",
    "    mut = atom_df.groupby('residue_number').b_factor.agg('first').values\n",
    "    break"
   ]
  },
  {
   "cell_type": "code",
   "execution_count": 11,
   "id": "2094ab42",
   "metadata": {
    "execution": {
     "iopub.execute_input": "2022-12-12T15:38:15.903786Z",
     "iopub.status.busy": "2022-12-12T15:38:15.903171Z",
     "iopub.status.idle": "2022-12-12T15:38:16.193560Z",
     "shell.execute_reply": "2022-12-12T15:38:16.192243Z"
    },
    "papermill": {
     "duration": 0.301111,
     "end_time": "2022-12-12T15:38:16.196016",
     "exception": false,
     "start_time": "2022-12-12T15:38:15.894905",
     "status": "completed"
    },
    "tags": []
   },
   "outputs": [
    {
     "data": {
      "image/png": "[encoded data removed]",
      "text/plain": [
       "<Figure size 1440x360 with 1 Axes>"
      ]
     },
     "metadata": {
      "needs_background": "light"
     },
     "output_type": "display_data"
    }
   ],
   "source": [
    "plt.figure(figsize=(20,5))\n",
    "plt.plot(range(221),wt,label='wild type')\n",
    "plt.plot(range(221),mut,label='mutant')\n",
    "plt.legend()\n",
    "plt.title('Test Wildtype Row 1 vs. Test Mutant Row 1',size=18)\n",
    "plt.show()"
   ]
  },
  {
   "cell_type": "markdown",
   "id": "5d42660d",
   "metadata": {
    "papermill": {
     "duration": 0.007544,
     "end_time": "2022-12-12T15:38:16.211702",
     "exception": false,
     "start_time": "2022-12-12T15:38:16.204158",
     "status": "completed"
    },
    "tags": []
   },
   "source": [
    "# Compute Difference Mutation vs. Wild Type Feature"
   ]
  },
  {
   "cell_type": "code",
   "execution_count": 12,
   "id": "6c1d8b9d",
   "metadata": {
    "execution": {
     "iopub.execute_input": "2022-12-12T15:38:16.229676Z",
     "iopub.status.busy": "2022-12-12T15:38:16.229292Z",
     "iopub.status.idle": "2022-12-12T15:40:24.076859Z",
     "shell.execute_reply": "2022-12-12T15:40:24.075765Z"
    },
    "papermill": {
     "duration": 127.86707,
     "end_time": "2022-12-12T15:40:24.086499",
     "exception": false,
     "start_time": "2022-12-12T15:38:16.219429",
     "status": "completed"
    },
    "tags": []
   },
   "outputs": [
    {
     "name": "stdout",
     "output_type": "stream",
     "text": [
      "These PDB are missing: [1169]\n"
     ]
    }
   ],
   "source": [
    "diffs = []\n",
    "missing = []\n",
    "\n",
    "for index,row in test.iterrows():\n",
    "    #print(index,', ',end='')\n",
    "    aa1 = row.wildtype\n",
    "    aa2 = row.mutation\n",
    "    pos = row.position\n",
    "    d = 0\n",
    "    try:\n",
    "        atom_df = PandasPdb().read_pdb(f'../input/nesp-kvigly-test-mutation-pdbs/{aa1}{pos}{aa2}_unrelaxed_rank_1_model_3.pdb')\n",
    "        atom_df = atom_df.df['ATOM']\n",
    "        mut = atom_df.groupby('residue_number').b_factor.agg('mean').values\n",
    "        d = mut[pos-1] - wt[pos-1]\n",
    "    except:\n",
    "        missing.append(index)\n",
    "        \n",
    "    diffs.append(d)\n",
    "print('These PDB are missing:', missing )"
   ]
  },
  {
   "attachments": {},
   "cell_type": "markdown",
   "id": "f664a64f",
   "metadata": {
    "papermill": {
     "duration": 0.007452,
     "end_time": "2022-12-12T15:40:24.101874",
     "exception": false,
     "start_time": "2022-12-12T15:40:24.094422",
     "status": "completed"
    },
    "tags": []
   },
   "source": [
    "## Predictions \n",
    "Create Submission CSV\n",
    "\n",
    "We publish both single model CSV and ensemble with best public notebook CSV."
   ]
  },
  {
   "cell_type": "code",
   "execution_count": 13,
   "id": "d71160c5",
   "metadata": {
    "execution": {
     "iopub.execute_input": "2022-12-12T15:40:24.119551Z",
     "iopub.status.busy": "2022-12-12T15:40:24.118856Z",
     "iopub.status.idle": "2022-12-12T15:40:24.495198Z",
     "shell.execute_reply": "2022-12-12T15:40:24.494038Z"
    },
    "papermill": {
     "duration": 0.388365,
     "end_time": "2022-12-12T15:40:24.498088",
     "exception": false,
     "start_time": "2022-12-12T15:40:24.109723",
     "status": "completed"
    },
    "tags": []
   },
   "outputs": [
    {
     "data": {
      "image/png": "[encoded data removed]",
      "text/plain": [
       "<Figure size 432x288 with 1 Axes>"
      ]
     },
     "metadata": {
      "needs_background": "light"
     },
     "output_type": "display_data"
    }
   ],
   "source": [
    "sub = pd.read_csv('../input/novozymes-enzyme-stability-prediction/sample_submission.csv')\n",
    "sub['tm'] = diffs\n",
    "sub.to_csv('submission_single_model.csv',index=False)\n",
    "\n",
    "#best = pd.read_csv('../input/nesp-thermonet-v2/ensemble_submission.csv')\n",
    "best = pd.read_csv('/kaggle/input/novozymesxgboost-and-thermo-ensamble/ensamble_ensamble_sub.csv')\n",
    "best.tm = rankdata( best.tm )\n",
    "best.head()\n",
    "\n",
    "submission = sub.copy()\n",
    "submission.tm = (0.12 * rankdata(sub.tm) + 0.88 * rankdata(best.tm))\n",
    "plt.hist( submission.tm, bins=100)\n",
    "plt.show()\n",
    "submission.to_csv('submission.csv',index=False)"
   ]
  },
  {
   "cell_type": "code",
   "execution_count": null,
   "id": "7596eec8",
   "metadata": {
    "papermill": {
     "duration": 0.008225,
     "end_time": "2022-12-12T15:40:24.514651",
     "exception": false,
     "start_time": "2022-12-12T15:40:24.506426",
     "status": "completed"
    },
    "tags": []
   },
   "outputs": [],
   "source": []
  }
 ],
 "metadata": {
  "kernelspec": {
   "display_name": "Python 3",
   "language": "python",
   "name": "python3"
  },
  "language_info": {
   "codemirror_mode": {
    "name": "ipython",
    "version": 3
   },
   "file_extension": ".py",
   "mimetype": "text/x-python",
   "name": "python",
   "nbconvert_exporter": "python",
   "pygments_lexer": "ipython3",
   "version": "3.7.12"
  },
  "papermill": {
   "default_parameters": {},
   "duration": 156.791198,
   "end_time": "2022-12-12T15:40:25.244130",
   "environment_variables": {},
   "exception": null,
   "input_path": "__notebook__.ipynb",
   "output_path": "__notebook__.ipynb",
   "parameters": {},
   "start_time": "2022-12-12T15:37:48.452932",
   "version": "2.3.4"
  }
 },
 "nbformat": 4,
 "nbformat_minor": 5
}
